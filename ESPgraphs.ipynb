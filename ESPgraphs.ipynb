{
 "metadata": {
  "language_info": {
   "codemirror_mode": {
    "name": "ipython",
    "version": 3
   },
   "file_extension": ".py",
   "mimetype": "text/x-python",
   "name": "python",
   "nbconvert_exporter": "python",
   "pygments_lexer": "ipython3",
   "version": 3
  },
  "orig_nbformat": 2
 },
 "nbformat": 4,
 "nbformat_minor": 2,
 "cells": [
  {
   "cell_type": "code",
   "execution_count": null,
   "metadata": {},
   "outputs": [],
   "source": [
    "import pandas as pd\n",
    "import numpy as np\n",
    "from matplotlib import pyplot as plt\n",
    "from scipy import stats as st"
   ]
  },
  {
   "cell_type": "code",
   "execution_count": null,
   "metadata": {},
   "outputs": [],
   "source": [
    "movie_csv = \"movies.csv\"\n",
    "movie_df = pd.read_csv(movie_csv, encoding = \"ISO-8859-1\")\n",
    "movie_df.head()"
   ]
  },
  {
   "cell_type": "code",
   "execution_count": null,
   "metadata": {},
   "outputs": [],
   "source": [
    "movie_df['Num_Genres'] = ''\n",
    "for index, row in movie_df.iterrows():\n",
    "    x=1\n",
    "    for i in row['Genres']:\n",
    "        if i == ',':\n",
    "            x+=1\n",
    "    movie_df.loc[index, 'Num_Genres'] = x\n",
    "movie_df.head()"
   ]
  }
 ]
}
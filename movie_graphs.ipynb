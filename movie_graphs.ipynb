{
 "cells": [
  {
   "cell_type": "markdown",
   "metadata": {},
   "source": [
    "Getting all the imports"
   ]
  },
  {
   "cell_type": "code",
   "execution_count": 1,
   "metadata": {},
   "outputs": [],
   "source": [
    "import pandas as pd\n",
    "import numpy as np\n",
    "from matplotlib import pyplot as plt\n",
    "from scipy import stats as st"
   ]
  },
  {
   "cell_type": "markdown",
   "metadata": {},
   "source": [
    "This is to import the csv"
   ]
  },
  {
   "cell_type": "code",
   "execution_count": 2,
   "metadata": {},
   "outputs": [
    {
     "data": {
      "text/html": [
       "<div>\n",
       "<style scoped>\n",
       "    .dataframe tbody tr th:only-of-type {\n",
       "        vertical-align: middle;\n",
       "    }\n",
       "\n",
       "    .dataframe tbody tr th {\n",
       "        vertical-align: top;\n",
       "    }\n",
       "\n",
       "    .dataframe thead th {\n",
       "        text-align: right;\n",
       "    }\n",
       "</style>\n",
       "<table border=\"1\" class=\"dataframe\">\n",
       "  <thead>\n",
       "    <tr style=\"text-align: right;\">\n",
       "      <th></th>\n",
       "      <th>Const</th>\n",
       "      <th>Title</th>\n",
       "      <th>URL</th>\n",
       "      <th>Title Type</th>\n",
       "      <th>IMDb Rating</th>\n",
       "      <th>Runtime (mins)</th>\n",
       "      <th>Year</th>\n",
       "      <th>Genres</th>\n",
       "      <th>Num Votes</th>\n",
       "      <th>Release Date</th>\n",
       "      <th>...</th>\n",
       "      <th>Rotten_Tomatoes_Rating</th>\n",
       "      <th>Metacritic_Rating</th>\n",
       "      <th>Rated</th>\n",
       "      <th>Home_Release</th>\n",
       "      <th>Production</th>\n",
       "      <th>Country</th>\n",
       "      <th>Awards_Blurb</th>\n",
       "      <th>Languages</th>\n",
       "      <th>Month Released</th>\n",
       "      <th>Awards</th>\n",
       "    </tr>\n",
       "  </thead>\n",
       "  <tbody>\n",
       "    <tr>\n",
       "      <th>0</th>\n",
       "      <td>tt0035423</td>\n",
       "      <td>Kate &amp; Leopold</td>\n",
       "      <td>https://www.imdb.com/title/tt0035423/</td>\n",
       "      <td>movie</td>\n",
       "      <td>6.4</td>\n",
       "      <td>118.0</td>\n",
       "      <td>2001.0</td>\n",
       "      <td>['Comedy', ' Fantasy', ' Romance']</td>\n",
       "      <td>77905.0</td>\n",
       "      <td>2001-12-11</td>\n",
       "      <td>...</td>\n",
       "      <td>50.0</td>\n",
       "      <td>44.0</td>\n",
       "      <td>PG-13</td>\n",
       "      <td>2002-Jun-11</td>\n",
       "      <td>Miramax Films</td>\n",
       "      <td>USA</td>\n",
       "      <td>Nominated for 1 Oscar. Another 1 win &amp; 4 nomin...</td>\n",
       "      <td>['English', ' French']</td>\n",
       "      <td>12.0</td>\n",
       "      <td>{'Oscar.': 1, 'win': 1, 'nominations.': 5}</td>\n",
       "    </tr>\n",
       "    <tr>\n",
       "      <th>1</th>\n",
       "      <td>tt0065643</td>\n",
       "      <td>The Dirty Mind of Young Sally</td>\n",
       "      <td>https://www.imdb.com/title/tt0065643/</td>\n",
       "      <td>movie</td>\n",
       "      <td>5.2</td>\n",
       "      <td>95.0</td>\n",
       "      <td>1973.0</td>\n",
       "      <td>['Comedy']</td>\n",
       "      <td>226.0</td>\n",
       "      <td>1973-04-20</td>\n",
       "      <td>...</td>\n",
       "      <td>NaN</td>\n",
       "      <td>NaN</td>\n",
       "      <td>X</td>\n",
       "      <td>0</td>\n",
       "      <td>NaN</td>\n",
       "      <td>USA</td>\n",
       "      <td>NaN</td>\n",
       "      <td>['English']</td>\n",
       "      <td>4.0</td>\n",
       "      <td>{}</td>\n",
       "    </tr>\n",
       "    <tr>\n",
       "      <th>2</th>\n",
       "      <td>tt0067716</td>\n",
       "      <td>Schlock</td>\n",
       "      <td>https://www.imdb.com/title/tt0067716/</td>\n",
       "      <td>movie</td>\n",
       "      <td>5.7</td>\n",
       "      <td>80.0</td>\n",
       "      <td>1973.0</td>\n",
       "      <td>['Comedy', ' Horror', ' Sci-Fi']</td>\n",
       "      <td>1221.0</td>\n",
       "      <td>1973-04-11</td>\n",
       "      <td>...</td>\n",
       "      <td>71.0</td>\n",
       "      <td>NaN</td>\n",
       "      <td>PG</td>\n",
       "      <td>2001-Oct-02</td>\n",
       "      <td>Jack H. Harris Enterprises</td>\n",
       "      <td>USA</td>\n",
       "      <td>1 win &amp; 1 nomination.</td>\n",
       "      <td>['English']</td>\n",
       "      <td>4.0</td>\n",
       "      <td>{'win': 1, 'nomination.': 1}</td>\n",
       "    </tr>\n",
       "    <tr>\n",
       "      <th>3</th>\n",
       "      <td>tt0068156</td>\n",
       "      <td>1776</td>\n",
       "      <td>https://www.imdb.com/title/tt0068156/</td>\n",
       "      <td>movie</td>\n",
       "      <td>7.6</td>\n",
       "      <td>141.0</td>\n",
       "      <td>1972.0</td>\n",
       "      <td>['Drama', ' Family', ' History', ' Musical']</td>\n",
       "      <td>7588.0</td>\n",
       "      <td>1972-11-09</td>\n",
       "      <td>...</td>\n",
       "      <td>69.0</td>\n",
       "      <td>NaN</td>\n",
       "      <td>G</td>\n",
       "      <td>2002-Jul-02</td>\n",
       "      <td>Sony Pictures Home Entertainment</td>\n",
       "      <td>USA</td>\n",
       "      <td>Nominated for 1 Oscar. Another 1 win &amp; 1 nomin...</td>\n",
       "      <td>['English']</td>\n",
       "      <td>11.0</td>\n",
       "      <td>Could not parse awards</td>\n",
       "    </tr>\n",
       "    <tr>\n",
       "      <th>4</th>\n",
       "      <td>tt0068168</td>\n",
       "      <td>Across 110th Street</td>\n",
       "      <td>https://www.imdb.com/title/tt0068168/</td>\n",
       "      <td>movie</td>\n",
       "      <td>7.0</td>\n",
       "      <td>102.0</td>\n",
       "      <td>1972.0</td>\n",
       "      <td>['Action', ' Crime', ' Drama', ' Thriller']</td>\n",
       "      <td>4923.0</td>\n",
       "      <td>1972-12-19</td>\n",
       "      <td>...</td>\n",
       "      <td>81.0</td>\n",
       "      <td>NaN</td>\n",
       "      <td>R</td>\n",
       "      <td>2001-Oct-16</td>\n",
       "      <td>MGM</td>\n",
       "      <td>USA</td>\n",
       "      <td>NaN</td>\n",
       "      <td>['English', ' Italian']</td>\n",
       "      <td>12.0</td>\n",
       "      <td>{}</td>\n",
       "    </tr>\n",
       "  </tbody>\n",
       "</table>\n",
       "<p>5 rows × 22 columns</p>\n",
       "</div>"
      ],
      "text/plain": [
       "       Const                          Title  \\\n",
       "0  tt0035423                 Kate & Leopold   \n",
       "1  tt0065643  The Dirty Mind of Young Sally   \n",
       "2  tt0067716                        Schlock   \n",
       "3  tt0068156                           1776   \n",
       "4  tt0068168            Across 110th Street   \n",
       "\n",
       "                                     URL Title Type  IMDb Rating  \\\n",
       "0  https://www.imdb.com/title/tt0035423/      movie          6.4   \n",
       "1  https://www.imdb.com/title/tt0065643/      movie          5.2   \n",
       "2  https://www.imdb.com/title/tt0067716/      movie          5.7   \n",
       "3  https://www.imdb.com/title/tt0068156/      movie          7.6   \n",
       "4  https://www.imdb.com/title/tt0068168/      movie          7.0   \n",
       "\n",
       "   Runtime (mins)    Year                                        Genres  \\\n",
       "0           118.0  2001.0            ['Comedy', ' Fantasy', ' Romance']   \n",
       "1            95.0  1973.0                                    ['Comedy']   \n",
       "2            80.0  1973.0              ['Comedy', ' Horror', ' Sci-Fi']   \n",
       "3           141.0  1972.0  ['Drama', ' Family', ' History', ' Musical']   \n",
       "4           102.0  1972.0   ['Action', ' Crime', ' Drama', ' Thriller']   \n",
       "\n",
       "   Num Votes Release Date  ... Rotten_Tomatoes_Rating  Metacritic_Rating  \\\n",
       "0    77905.0   2001-12-11  ...                   50.0               44.0   \n",
       "1      226.0   1973-04-20  ...                    NaN                NaN   \n",
       "2     1221.0   1973-04-11  ...                   71.0                NaN   \n",
       "3     7588.0   1972-11-09  ...                   69.0                NaN   \n",
       "4     4923.0   1972-12-19  ...                   81.0                NaN   \n",
       "\n",
       "   Rated  Home_Release                        Production Country  \\\n",
       "0  PG-13   2002-Jun-11                     Miramax Films     USA   \n",
       "1      X             0                               NaN     USA   \n",
       "2     PG   2001-Oct-02        Jack H. Harris Enterprises     USA   \n",
       "3      G   2002-Jul-02  Sony Pictures Home Entertainment     USA   \n",
       "4      R   2001-Oct-16                               MGM     USA   \n",
       "\n",
       "                                        Awards_Blurb                Languages  \\\n",
       "0  Nominated for 1 Oscar. Another 1 win & 4 nomin...   ['English', ' French']   \n",
       "1                                                NaN              ['English']   \n",
       "2                              1 win & 1 nomination.              ['English']   \n",
       "3  Nominated for 1 Oscar. Another 1 win & 1 nomin...              ['English']   \n",
       "4                                                NaN  ['English', ' Italian']   \n",
       "\n",
       "  Month Released                                      Awards  \n",
       "0           12.0  {'Oscar.': 1, 'win': 1, 'nominations.': 5}  \n",
       "1            4.0                                          {}  \n",
       "2            4.0                {'win': 1, 'nomination.': 1}  \n",
       "3           11.0                      Could not parse awards  \n",
       "4           12.0                                          {}  \n",
       "\n",
       "[5 rows x 22 columns]"
      ]
     },
     "execution_count": 2,
     "metadata": {},
     "output_type": "execute_result"
    }
   ],
   "source": [
    "movie_csv = \"movies.csv\"\n",
    "movie_df = pd.read_csv(movie_csv, encoding = \"ISO-8859-1\")\n",
    "movie_df.head()"
   ]
  },
  {
   "cell_type": "markdown",
   "metadata": {},
   "source": [
    "This is to split up the DataFrame by a few genres;\n",
    "\n",
    "horror_df has all horror movies\n",
    "\n",
    "romance_df has all romance movies\n",
    "\n",
    "sciFi_df has all sci-fi"
   ]
  },
  {
   "cell_type": "code",
   "execution_count": 3,
   "metadata": {},
   "outputs": [
    {
     "data": {
      "text/html": [
       "<div>\n",
       "<style scoped>\n",
       "    .dataframe tbody tr th:only-of-type {\n",
       "        vertical-align: middle;\n",
       "    }\n",
       "\n",
       "    .dataframe tbody tr th {\n",
       "        vertical-align: top;\n",
       "    }\n",
       "\n",
       "    .dataframe thead th {\n",
       "        text-align: right;\n",
       "    }\n",
       "</style>\n",
       "<table border=\"1\" class=\"dataframe\">\n",
       "  <thead>\n",
       "    <tr style=\"text-align: right;\">\n",
       "      <th></th>\n",
       "      <th>Const</th>\n",
       "      <th>Title</th>\n",
       "      <th>URL</th>\n",
       "      <th>Title Type</th>\n",
       "      <th>IMDb Rating</th>\n",
       "      <th>Runtime (mins)</th>\n",
       "      <th>Year</th>\n",
       "      <th>Genres</th>\n",
       "      <th>Num Votes</th>\n",
       "      <th>Release Date</th>\n",
       "      <th>...</th>\n",
       "      <th>Home_Release</th>\n",
       "      <th>Production</th>\n",
       "      <th>Country</th>\n",
       "      <th>Awards_Blurb</th>\n",
       "      <th>Languages</th>\n",
       "      <th>Month Released</th>\n",
       "      <th>Awards</th>\n",
       "      <th>is_horror</th>\n",
       "      <th>is_romance</th>\n",
       "      <th>is_sci-fi</th>\n",
       "    </tr>\n",
       "  </thead>\n",
       "  <tbody>\n",
       "    <tr>\n",
       "      <th>2</th>\n",
       "      <td>tt0067716</td>\n",
       "      <td>Schlock</td>\n",
       "      <td>https://www.imdb.com/title/tt0067716/</td>\n",
       "      <td>movie</td>\n",
       "      <td>5.7</td>\n",
       "      <td>80.0</td>\n",
       "      <td>1973.0</td>\n",
       "      <td>['Comedy', ' Horror', ' Sci-Fi']</td>\n",
       "      <td>1221.0</td>\n",
       "      <td>1973-04-11</td>\n",
       "      <td>...</td>\n",
       "      <td>2001-Oct-02</td>\n",
       "      <td>Jack H. Harris Enterprises</td>\n",
       "      <td>USA</td>\n",
       "      <td>1 win &amp; 1 nomination.</td>\n",
       "      <td>['English']</td>\n",
       "      <td>4.0</td>\n",
       "      <td>{'win': 1, 'nomination.': 1}</td>\n",
       "      <td>True</td>\n",
       "      <td>False</td>\n",
       "      <td>True</td>\n",
       "    </tr>\n",
       "    <tr>\n",
       "      <th>12</th>\n",
       "      <td>tt0068595</td>\n",
       "      <td>Flesh Gordon</td>\n",
       "      <td>https://www.imdb.com/title/tt0068595/</td>\n",
       "      <td>movie</td>\n",
       "      <td>4.7</td>\n",
       "      <td>78.0</td>\n",
       "      <td>1974.0</td>\n",
       "      <td>['Comedy', ' Sci-Fi']</td>\n",
       "      <td>3839.0</td>\n",
       "      <td>1974-07-30</td>\n",
       "      <td>...</td>\n",
       "      <td>2004-Jan-27</td>\n",
       "      <td>NaN</td>\n",
       "      <td>USA</td>\n",
       "      <td>1 nomination.</td>\n",
       "      <td>['English']</td>\n",
       "      <td>7.0</td>\n",
       "      <td>{'nomination.': 1}</td>\n",
       "      <td>False</td>\n",
       "      <td>False</td>\n",
       "      <td>True</td>\n",
       "    </tr>\n",
       "    <tr>\n",
       "      <th>37</th>\n",
       "      <td>tt0069768</td>\n",
       "      <td>Battle for the Planet of the Apes</td>\n",
       "      <td>https://www.imdb.com/title/tt0069768/</td>\n",
       "      <td>movie</td>\n",
       "      <td>5.5</td>\n",
       "      <td>93.0</td>\n",
       "      <td>1973.0</td>\n",
       "      <td>['Action', ' Sci-Fi']</td>\n",
       "      <td>28321.0</td>\n",
       "      <td>1973-06-15</td>\n",
       "      <td>...</td>\n",
       "      <td>2009-May-05</td>\n",
       "      <td>20th Century Fox</td>\n",
       "      <td>USA</td>\n",
       "      <td>2 nominations.</td>\n",
       "      <td>['English']</td>\n",
       "      <td>6.0</td>\n",
       "      <td>{'nominations.': 2}</td>\n",
       "      <td>False</td>\n",
       "      <td>False</td>\n",
       "      <td>True</td>\n",
       "    </tr>\n",
       "    <tr>\n",
       "      <th>48</th>\n",
       "      <td>tt0069895</td>\n",
       "      <td>The Crazies</td>\n",
       "      <td>https://www.imdb.com/title/tt0069895/</td>\n",
       "      <td>movie</td>\n",
       "      <td>6.1</td>\n",
       "      <td>103.0</td>\n",
       "      <td>1973.0</td>\n",
       "      <td>['Action', ' Horror', ' Sci-Fi']</td>\n",
       "      <td>11011.0</td>\n",
       "      <td>1973-03-16</td>\n",
       "      <td>...</td>\n",
       "      <td>2003-Apr-29</td>\n",
       "      <td>Blue Underground</td>\n",
       "      <td>USA</td>\n",
       "      <td>NaN</td>\n",
       "      <td>['English']</td>\n",
       "      <td>3.0</td>\n",
       "      <td>{}</td>\n",
       "      <td>True</td>\n",
       "      <td>False</td>\n",
       "      <td>True</td>\n",
       "    </tr>\n",
       "    <tr>\n",
       "      <th>51</th>\n",
       "      <td>tt0069945</td>\n",
       "      <td>Dark Star</td>\n",
       "      <td>https://www.imdb.com/title/tt0069945/</td>\n",
       "      <td>movie</td>\n",
       "      <td>6.3</td>\n",
       "      <td>83.0</td>\n",
       "      <td>1974.0</td>\n",
       "      <td>['Comedy', ' Sci-Fi']</td>\n",
       "      <td>21782.0</td>\n",
       "      <td>1974-04-30</td>\n",
       "      <td>...</td>\n",
       "      <td>1999-Mar-16</td>\n",
       "      <td>Jack H. Harris Enterprises Inc</td>\n",
       "      <td>USA</td>\n",
       "      <td>1 win &amp; 2 nominations.</td>\n",
       "      <td>['English']</td>\n",
       "      <td>4.0</td>\n",
       "      <td>{'win': 1, 'nominations.': 2}</td>\n",
       "      <td>False</td>\n",
       "      <td>False</td>\n",
       "      <td>True</td>\n",
       "    </tr>\n",
       "  </tbody>\n",
       "</table>\n",
       "<p>5 rows × 25 columns</p>\n",
       "</div>"
      ],
      "text/plain": [
       "        Const                              Title  \\\n",
       "2   tt0067716                            Schlock   \n",
       "12  tt0068595                       Flesh Gordon   \n",
       "37  tt0069768  Battle for the Planet of the Apes   \n",
       "48  tt0069895                        The Crazies   \n",
       "51  tt0069945                          Dark Star   \n",
       "\n",
       "                                      URL Title Type  IMDb Rating  \\\n",
       "2   https://www.imdb.com/title/tt0067716/      movie          5.7   \n",
       "12  https://www.imdb.com/title/tt0068595/      movie          4.7   \n",
       "37  https://www.imdb.com/title/tt0069768/      movie          5.5   \n",
       "48  https://www.imdb.com/title/tt0069895/      movie          6.1   \n",
       "51  https://www.imdb.com/title/tt0069945/      movie          6.3   \n",
       "\n",
       "    Runtime (mins)    Year                            Genres  Num Votes  \\\n",
       "2             80.0  1973.0  ['Comedy', ' Horror', ' Sci-Fi']     1221.0   \n",
       "12            78.0  1974.0             ['Comedy', ' Sci-Fi']     3839.0   \n",
       "37            93.0  1973.0             ['Action', ' Sci-Fi']    28321.0   \n",
       "48           103.0  1973.0  ['Action', ' Horror', ' Sci-Fi']    11011.0   \n",
       "51            83.0  1974.0             ['Comedy', ' Sci-Fi']    21782.0   \n",
       "\n",
       "   Release Date  ... Home_Release                      Production  Country  \\\n",
       "2    1973-04-11  ...  2001-Oct-02      Jack H. Harris Enterprises      USA   \n",
       "12   1974-07-30  ...  2004-Jan-27                             NaN      USA   \n",
       "37   1973-06-15  ...  2009-May-05                20th Century Fox      USA   \n",
       "48   1973-03-16  ...  2003-Apr-29                Blue Underground      USA   \n",
       "51   1974-04-30  ...  1999-Mar-16  Jack H. Harris Enterprises Inc      USA   \n",
       "\n",
       "              Awards_Blurb    Languages Month Released  \\\n",
       "2    1 win & 1 nomination.  ['English']            4.0   \n",
       "12           1 nomination.  ['English']            7.0   \n",
       "37          2 nominations.  ['English']            6.0   \n",
       "48                     NaN  ['English']            3.0   \n",
       "51  1 win & 2 nominations.  ['English']            4.0   \n",
       "\n",
       "                           Awards is_horror is_romance is_sci-fi  \n",
       "2    {'win': 1, 'nomination.': 1}      True      False      True  \n",
       "12             {'nomination.': 1}     False      False      True  \n",
       "37            {'nominations.': 2}     False      False      True  \n",
       "48                             {}      True      False      True  \n",
       "51  {'win': 1, 'nominations.': 2}     False      False      True  \n",
       "\n",
       "[5 rows x 25 columns]"
      ]
     },
     "execution_count": 3,
     "metadata": {},
     "output_type": "execute_result"
    }
   ],
   "source": [
    "movie_df['is_horror'] = ''\n",
    "movie_df['is_romance'] = ''\n",
    "movie_df['is_sci-fi'] = ''\n",
    "\n",
    "for value, row in movie_df.iterrows():\n",
    "    movie_df.loc[value, 'is_horror'] = 'Horror' in row['Genres']\n",
    "    movie_df.loc[value, 'is_romance'] = 'Romance' in row['Genres']\n",
    "    movie_df.loc[value, 'is_sci-fi'] = 'Sci-Fi' in row['Genres']\n",
    "horror_df = movie_df[movie_df['is_horror']==True]\n",
    "romance_df = movie_df[movie_df['is_romance']==True]\n",
    "sciFi_df = movie_df[movie_df['is_sci-fi']==True]\n",
    "sciFi_df.head()"
   ]
  },
  {
   "cell_type": "markdown",
   "metadata": {},
   "source": [
    "These dfs will be useful in finding if box office or IMDb rating is influenced by the month of release.  The box_office will be a sum, the tating will be a mean and the title will be a count:"
   ]
  },
  {
   "cell_type": "code",
   "execution_count": 4,
   "metadata": {},
   "outputs": [
    {
     "data": {
      "text/html": [
       "<div>\n",
       "<style scoped>\n",
       "    .dataframe tbody tr th:only-of-type {\n",
       "        vertical-align: middle;\n",
       "    }\n",
       "\n",
       "    .dataframe tbody tr th {\n",
       "        vertical-align: top;\n",
       "    }\n",
       "\n",
       "    .dataframe thead th {\n",
       "        text-align: right;\n",
       "    }\n",
       "</style>\n",
       "<table border=\"1\" class=\"dataframe\">\n",
       "  <thead>\n",
       "    <tr style=\"text-align: right;\">\n",
       "      <th></th>\n",
       "      <th>Month Released</th>\n",
       "      <th>Box_Office_Total</th>\n",
       "      <th>Average_Rating</th>\n",
       "      <th>Total_Movies</th>\n",
       "    </tr>\n",
       "  </thead>\n",
       "  <tbody>\n",
       "    <tr>\n",
       "      <th>0</th>\n",
       "      <td>1.0</td>\n",
       "      <td>1.158377e+09</td>\n",
       "      <td>6.268750</td>\n",
       "      <td>49</td>\n",
       "    </tr>\n",
       "    <tr>\n",
       "      <th>1</th>\n",
       "      <td>2.0</td>\n",
       "      <td>4.866544e+08</td>\n",
       "      <td>6.217647</td>\n",
       "      <td>17</td>\n",
       "    </tr>\n",
       "    <tr>\n",
       "      <th>2</th>\n",
       "      <td>3.0</td>\n",
       "      <td>2.123479e+09</td>\n",
       "      <td>5.900000</td>\n",
       "      <td>52</td>\n",
       "    </tr>\n",
       "    <tr>\n",
       "      <th>3</th>\n",
       "      <td>4.0</td>\n",
       "      <td>3.481190e+09</td>\n",
       "      <td>5.926000</td>\n",
       "      <td>50</td>\n",
       "    </tr>\n",
       "    <tr>\n",
       "      <th>4</th>\n",
       "      <td>5.0</td>\n",
       "      <td>1.659052e+09</td>\n",
       "      <td>5.835417</td>\n",
       "      <td>48</td>\n",
       "    </tr>\n",
       "  </tbody>\n",
       "</table>\n",
       "</div>"
      ],
      "text/plain": [
       "   Month Released  Box_Office_Total  Average_Rating  Total_Movies\n",
       "0             1.0      1.158377e+09        6.268750            49\n",
       "1             2.0      4.866544e+08        6.217647            17\n",
       "2             3.0      2.123479e+09        5.900000            52\n",
       "3             4.0      3.481190e+09        5.926000            50\n",
       "4             5.0      1.659052e+09        5.835417            48"
      ]
     },
     "execution_count": 4,
     "metadata": {},
     "output_type": "execute_result"
    }
   ],
   "source": [
    "monthly_horror = horror_df.groupby('Month Released').agg({\n",
    "    'Box_Office': 'sum',\n",
    "    'IMDb Rating': 'mean',\n",
    "    'Title': 'count'\n",
    "})\n",
    "monthly_horror.rename({\n",
    "    'Box_Office': 'Box_Office_Total',\n",
    "    'IMDb Rating': 'Average_Rating',\n",
    "    'Title': 'Total_Movies'\n",
    "},inplace = True, axis = 1)\n",
    "monthly_romance = romance_df.groupby('Month Released').agg({\n",
    "    'Box_Office': 'sum',\n",
    "    'IMDb Rating': 'mean',\n",
    "    'Title': 'count'\n",
    "})\n",
    "monthly_romance.rename({\n",
    "    'Box_Office': 'Box_Office_Total',\n",
    "    'IMDb Rating': 'Average_Rating',\n",
    "    'Title': 'Total_Movies'\n",
    "},inplace = True, axis = 1)\n",
    "monthly_sciFi = sciFi_df.groupby('Month Released').agg({\n",
    "    'Box_Office': 'sum',\n",
    "    'IMDb Rating': 'mean',\n",
    "    'Title': 'count'\n",
    "})\n",
    "monthly_sciFi.rename({\n",
    "    'Box_Office': 'Box_Office_Total',\n",
    "    'IMDb Rating': 'Average_Rating',\n",
    "    'Title': 'Total_Movies'\n",
    "},inplace = True, axis = 1)\n",
    "\n",
    "monthly_horror = monthly_horror.reset_index()\n",
    "monthly_romance = monthly_romance.reset_index()\n",
    "monthly_sciFi = monthly_sciFi.reset_index()\n",
    "monthly_sciFi.head()"
   ]
  },
  {
   "cell_type": "markdown",
   "metadata": {},
   "source": [
    "These DataFrames will track the success of certain genres depending on year of release.  The box_office will be a sum, the tating will be a mean and the title will be a count:"
   ]
  },
  {
   "cell_type": "code",
   "execution_count": 5,
   "metadata": {},
   "outputs": [
    {
     "data": {
      "text/html": [
       "<div>\n",
       "<style scoped>\n",
       "    .dataframe tbody tr th:only-of-type {\n",
       "        vertical-align: middle;\n",
       "    }\n",
       "\n",
       "    .dataframe tbody tr th {\n",
       "        vertical-align: top;\n",
       "    }\n",
       "\n",
       "    .dataframe thead th {\n",
       "        text-align: right;\n",
       "    }\n",
       "</style>\n",
       "<table border=\"1\" class=\"dataframe\">\n",
       "  <thead>\n",
       "    <tr style=\"text-align: right;\">\n",
       "      <th></th>\n",
       "      <th>Year</th>\n",
       "      <th>Box_Office_Total</th>\n",
       "      <th>Average_Rating</th>\n",
       "      <th>Total_Movies</th>\n",
       "    </tr>\n",
       "  </thead>\n",
       "  <tbody>\n",
       "    <tr>\n",
       "      <th>0</th>\n",
       "      <td>1973.0</td>\n",
       "      <td>0.0</td>\n",
       "      <td>6.136364</td>\n",
       "      <td>11</td>\n",
       "    </tr>\n",
       "    <tr>\n",
       "      <th>1</th>\n",
       "      <td>1974.0</td>\n",
       "      <td>0.0</td>\n",
       "      <td>5.114286</td>\n",
       "      <td>7</td>\n",
       "    </tr>\n",
       "    <tr>\n",
       "      <th>2</th>\n",
       "      <td>1975.0</td>\n",
       "      <td>0.0</td>\n",
       "      <td>6.225000</td>\n",
       "      <td>8</td>\n",
       "    </tr>\n",
       "    <tr>\n",
       "      <th>3</th>\n",
       "      <td>1976.0</td>\n",
       "      <td>0.0</td>\n",
       "      <td>5.042857</td>\n",
       "      <td>7</td>\n",
       "    </tr>\n",
       "    <tr>\n",
       "      <th>4</th>\n",
       "      <td>1977.0</td>\n",
       "      <td>0.0</td>\n",
       "      <td>5.736364</td>\n",
       "      <td>11</td>\n",
       "    </tr>\n",
       "  </tbody>\n",
       "</table>\n",
       "</div>"
      ],
      "text/plain": [
       "     Year  Box_Office_Total  Average_Rating  Total_Movies\n",
       "0  1973.0               0.0        6.136364            11\n",
       "1  1974.0               0.0        5.114286             7\n",
       "2  1975.0               0.0        6.225000             8\n",
       "3  1976.0               0.0        5.042857             7\n",
       "4  1977.0               0.0        5.736364            11"
      ]
     },
     "execution_count": 5,
     "metadata": {},
     "output_type": "execute_result"
    }
   ],
   "source": [
    "yearly_horror = horror_df.groupby('Year').agg({\n",
    "    'Box_Office': 'sum',\n",
    "    'IMDb Rating': 'mean',\n",
    "    'Title': 'count'\n",
    "})\n",
    "yearly_horror.rename({\n",
    "    'Box_Office': 'Box_Office_Total',\n",
    "    'IMDb Rating': 'Average_Rating',\n",
    "    'Title': 'Total_Movies'\n",
    "},inplace = True, axis = 1)\n",
    "\n",
    "yearly_romance = romance_df.groupby('Year').agg({\n",
    "    'Box_Office': 'sum',\n",
    "    'IMDb Rating': 'mean',\n",
    "    'Title': 'count'\n",
    "})\n",
    "yearly_romance.rename({\n",
    "    'Box_Office': 'Box_Office_Total',\n",
    "    'IMDb Rating': 'Average_Rating',\n",
    "    'Title': 'Total_Movies'\n",
    "},inplace = True, axis = 1)\n",
    "\n",
    "yearly_sciFi = sciFi_df.groupby('Year').agg({\n",
    "    'Box_Office': 'sum',\n",
    "    'IMDb Rating': 'mean',\n",
    "    'Title': 'count'\n",
    "})\n",
    "yearly_sciFi.rename({\n",
    "    'Box_Office': 'Box_Office_Total',\n",
    "    'IMDb Rating': 'Average_Rating',\n",
    "    'Title': 'Total_Movies'\n",
    "},inplace = True, axis = 1)\n",
    "\n",
    "yearly_horror = yearly_horror.reset_index()\n",
    "yearly_romance = yearly_romance.reset_index()\n",
    "yearly_sciFi = yearly_sciFi.reset_index()\n",
    "yearly_sciFi.head()"
   ]
  },
  {
   "cell_type": "markdown",
   "metadata": {},
   "source": [
    "### **As a quick reference the parent Dataframes are as follows:**\n",
    "\n",
    "##### The master dataframe is called: \n",
    "\n",
    " - **movies_df**\n",
    " \n",
    "### The truncated genre dataframes are called:\n",
    "\n",
    " - **monthly_horror**\n",
    " - **monthly_romance**\n",
    " - **monthly_sciFi**\n",
    " \n",
    "### **The ones made for your use are as follows:**\n",
    "\n",
    "##### The monthly DataFrames are called:\n",
    "\n",
    " - **monthly_horror**\n",
    " - **monthly_romance**\n",
    " - **monthly_sciFi**\n",
    " \n",
    "##### The yearly DataFrames are called:\n",
    " \n",
    " - **yearly_horror** \n",
    " - **yearly_romance**\n",
    " - **yearly_sciFi**\n",
    "  \n",
    "  *Let me know if you need these in a differnt form or if I should merge like-DataFrames together. If I merge them the column named would need to be long *ie: \"horror_Box_Office\"* \n",
    "  *I thought it would be easier to type this way, but if you prefer the organization of merged dataframes, just let me know and I'll get right on it.\n",
    " "
   ]
  },
  {
   "cell_type": "code",
   "execution_count": 6,
   "metadata": {},
   "outputs": [
    {
     "data": {
      "text/html": [
       "<div>\n",
       "<style scoped>\n",
       "    .dataframe tbody tr th:only-of-type {\n",
       "        vertical-align: middle;\n",
       "    }\n",
       "\n",
       "    .dataframe tbody tr th {\n",
       "        vertical-align: top;\n",
       "    }\n",
       "\n",
       "    .dataframe thead th {\n",
       "        text-align: right;\n",
       "    }\n",
       "</style>\n",
       "<table border=\"1\" class=\"dataframe\">\n",
       "  <thead>\n",
       "    <tr style=\"text-align: right;\">\n",
       "      <th></th>\n",
       "      <th>Month Released</th>\n",
       "      <th>Box_Office_Total</th>\n",
       "      <th>Average_Rating</th>\n",
       "      <th>Total_Movies</th>\n",
       "    </tr>\n",
       "  </thead>\n",
       "  <tbody>\n",
       "    <tr>\n",
       "      <th>0</th>\n",
       "      <td>1.0</td>\n",
       "      <td>1.158377e+09</td>\n",
       "      <td>6.268750</td>\n",
       "      <td>49</td>\n",
       "    </tr>\n",
       "    <tr>\n",
       "      <th>1</th>\n",
       "      <td>2.0</td>\n",
       "      <td>4.866544e+08</td>\n",
       "      <td>6.217647</td>\n",
       "      <td>17</td>\n",
       "    </tr>\n",
       "    <tr>\n",
       "      <th>2</th>\n",
       "      <td>3.0</td>\n",
       "      <td>2.123479e+09</td>\n",
       "      <td>5.900000</td>\n",
       "      <td>52</td>\n",
       "    </tr>\n",
       "    <tr>\n",
       "      <th>3</th>\n",
       "      <td>4.0</td>\n",
       "      <td>3.481190e+09</td>\n",
       "      <td>5.926000</td>\n",
       "      <td>50</td>\n",
       "    </tr>\n",
       "    <tr>\n",
       "      <th>4</th>\n",
       "      <td>5.0</td>\n",
       "      <td>1.659052e+09</td>\n",
       "      <td>5.835417</td>\n",
       "      <td>48</td>\n",
       "    </tr>\n",
       "    <tr>\n",
       "      <th>5</th>\n",
       "      <td>6.0</td>\n",
       "      <td>4.199193e+09</td>\n",
       "      <td>6.194667</td>\n",
       "      <td>76</td>\n",
       "    </tr>\n",
       "    <tr>\n",
       "      <th>6</th>\n",
       "      <td>7.0</td>\n",
       "      <td>2.079504e+09</td>\n",
       "      <td>5.937705</td>\n",
       "      <td>61</td>\n",
       "    </tr>\n",
       "    <tr>\n",
       "      <th>7</th>\n",
       "      <td>8.0</td>\n",
       "      <td>8.447543e+08</td>\n",
       "      <td>5.598305</td>\n",
       "      <td>59</td>\n",
       "    </tr>\n",
       "    <tr>\n",
       "      <th>8</th>\n",
       "      <td>9.0</td>\n",
       "      <td>5.425086e+08</td>\n",
       "      <td>6.317647</td>\n",
       "      <td>34</td>\n",
       "    </tr>\n",
       "    <tr>\n",
       "      <th>9</th>\n",
       "      <td>10.0</td>\n",
       "      <td>1.290344e+09</td>\n",
       "      <td>6.038095</td>\n",
       "      <td>43</td>\n",
       "    </tr>\n",
       "    <tr>\n",
       "      <th>10</th>\n",
       "      <td>11.0</td>\n",
       "      <td>9.076454e+08</td>\n",
       "      <td>6.153846</td>\n",
       "      <td>52</td>\n",
       "    </tr>\n",
       "    <tr>\n",
       "      <th>11</th>\n",
       "      <td>12.0</td>\n",
       "      <td>2.783192e+09</td>\n",
       "      <td>6.251163</td>\n",
       "      <td>46</td>\n",
       "    </tr>\n",
       "  </tbody>\n",
       "</table>\n",
       "</div>"
      ],
      "text/plain": [
       "    Month Released  Box_Office_Total  Average_Rating  Total_Movies\n",
       "0              1.0      1.158377e+09        6.268750            49\n",
       "1              2.0      4.866544e+08        6.217647            17\n",
       "2              3.0      2.123479e+09        5.900000            52\n",
       "3              4.0      3.481190e+09        5.926000            50\n",
       "4              5.0      1.659052e+09        5.835417            48\n",
       "5              6.0      4.199193e+09        6.194667            76\n",
       "6              7.0      2.079504e+09        5.937705            61\n",
       "7              8.0      8.447543e+08        5.598305            59\n",
       "8              9.0      5.425086e+08        6.317647            34\n",
       "9             10.0      1.290344e+09        6.038095            43\n",
       "10            11.0      9.076454e+08        6.153846            52\n",
       "11            12.0      2.783192e+09        6.251163            46"
      ]
     },
     "execution_count": 6,
     "metadata": {},
     "output_type": "execute_result"
    }
   ],
   "source": [
    "monthly_sciFi.head(12)"
   ]
  },
  {
   "cell_type": "code",
   "execution_count": 7,
   "metadata": {},
   "outputs": [
    {
     "data": {
      "text/plain": [
       "<matplotlib.axes._subplots.AxesSubplot at 0x245ea5f2e80>"
      ]
     },
     "execution_count": 7,
     "metadata": {},
     "output_type": "execute_result"
    },
    {
     "data": {
      "image/png": "[encoded data removed]",
      "text/plain": [
       "<Figure size 432x288 with 1 Axes>"
      ]
     },
     "metadata": {
      "needs_background": "light"
     },
     "output_type": "display_data"
    }
   ],
   "source": [
    "monthly_scifi_rel= monthly_sciFi[\"Total_Movies\"]\n",
    "y_axis = monthly_scifi_rel.values\n",
    "x_axis = monthly_scifi_rel.index\n",
    "\n",
    "plt.title('SciFi Release Month')\n",
    "plt.xlabel('Month')\n",
    "plt.ylabel('# of Movies')\n",
    "\n",
    "monthly_scifi_rel.plot(kind=\"bar\")\n",
    "\n"
   ]
  },
  {
   "cell_type": "code",
   "execution_count": 8,
   "metadata": {},
   "outputs": [
    {
     "data": {
      "text/plain": [
       "<matplotlib.axes._subplots.AxesSubplot at 0x245eb0c0a60>"
      ]
     },
     "execution_count": 8,
     "metadata": {},
     "output_type": "execute_result"
    },
    {
     "data": {
      "image/png": "[encoded data removed]",
      "text/plain": [
       "<Figure size 432x288 with 1 Axes>"
      ]
     },
     "metadata": {
      "needs_background": "light"
     },
     "output_type": "display_data"
    }
   ],
   "source": [
    "monthly_horror_rel= monthly_horror[\"Total_Movies\"]\n",
    "y_axis = monthly_horror_rel.values\n",
    "x_axis = monthly_horror_rel.index\n",
    "\n",
    "plt.title('Horror Release Month')\n",
    "plt.xlabel('Month')\n",
    "plt.ylabel('# of Movies')\n",
    "\n",
    "\n",
    "monthly_horror_rel.plot(kind=\"bar\")\n"
   ]
  },
  {
   "cell_type": "code",
   "execution_count": 9,
   "metadata": {},
   "outputs": [
    {
     "data": {
      "text/plain": [
       "<matplotlib.axes._subplots.AxesSubplot at 0x245eb144be0>"
      ]
     },
     "execution_count": 9,
     "metadata": {},
     "output_type": "execute_result"
    },
    {
     "data": {
      "image/png": "[encoded data removed]",
      "text/plain": [
       "<Figure size 432x288 with 1 Axes>"
      ]
     },
     "metadata": {
      "needs_background": "light"
     },
     "output_type": "display_data"
    }
   ],
   "source": [
    "monthly_romance_rel= monthly_romance[\"Total_Movies\"]\n",
    "y_axis = monthly_romance_rel.values\n",
    "x_axis = monthly_romance_rel.index\n",
    "\n",
    "plt.title('Romance Release Month')\n",
    "plt.xlabel('Month')\n",
    "plt.ylabel('# of Movies')\n",
    "\n",
    "monthly_romance_rel.plot(kind=\"bar\")\n"
   ]
  },
  {
   "cell_type": "code",
   "execution_count": 10,
   "metadata": {},
   "outputs": [
    {
     "data": {
      "text/html": [
       "<div>\n",
       "<style scoped>\n",
       "    .dataframe tbody tr th:only-of-type {\n",
       "        vertical-align: middle;\n",
       "    }\n",
       "\n",
       "    .dataframe tbody tr th {\n",
       "        vertical-align: top;\n",
       "    }\n",
       "\n",
       "    .dataframe thead th {\n",
       "        text-align: right;\n",
       "    }\n",
       "</style>\n",
       "<table border=\"1\" class=\"dataframe\">\n",
       "  <thead>\n",
       "    <tr style=\"text-align: right;\">\n",
       "      <th></th>\n",
       "      <th>Year</th>\n",
       "      <th>Box_Office_Total</th>\n",
       "      <th>Average_Rating</th>\n",
       "      <th>Total_Movies</th>\n",
       "    </tr>\n",
       "  </thead>\n",
       "  <tbody>\n",
       "    <tr>\n",
       "      <th>0</th>\n",
       "      <td>1973.0</td>\n",
       "      <td>0.0</td>\n",
       "      <td>6.136364</td>\n",
       "      <td>11</td>\n",
       "    </tr>\n",
       "    <tr>\n",
       "      <th>1</th>\n",
       "      <td>1974.0</td>\n",
       "      <td>0.0</td>\n",
       "      <td>5.114286</td>\n",
       "      <td>7</td>\n",
       "    </tr>\n",
       "    <tr>\n",
       "      <th>2</th>\n",
       "      <td>1975.0</td>\n",
       "      <td>0.0</td>\n",
       "      <td>6.225000</td>\n",
       "      <td>8</td>\n",
       "    </tr>\n",
       "    <tr>\n",
       "      <th>3</th>\n",
       "      <td>1976.0</td>\n",
       "      <td>0.0</td>\n",
       "      <td>5.042857</td>\n",
       "      <td>7</td>\n",
       "    </tr>\n",
       "    <tr>\n",
       "      <th>4</th>\n",
       "      <td>1977.0</td>\n",
       "      <td>0.0</td>\n",
       "      <td>5.736364</td>\n",
       "      <td>11</td>\n",
       "    </tr>\n",
       "  </tbody>\n",
       "</table>\n",
       "</div>"
      ],
      "text/plain": [
       "     Year  Box_Office_Total  Average_Rating  Total_Movies\n",
       "0  1973.0               0.0        6.136364            11\n",
       "1  1974.0               0.0        5.114286             7\n",
       "2  1975.0               0.0        6.225000             8\n",
       "3  1976.0               0.0        5.042857             7\n",
       "4  1977.0               0.0        5.736364            11"
      ]
     },
     "execution_count": 10,
     "metadata": {},
     "output_type": "execute_result"
    }
   ],
   "source": [
    "yearly_sciFi.head()"
   ]
  },
  {
   "cell_type": "code",
   "execution_count": 11,
   "metadata": {},
   "outputs": [
    {
     "data": {
      "text/plain": [
       "Text(0.5, 1.0, 'Movies rated over the years')"
      ]
     },
     "execution_count": 11,
     "metadata": {},
     "output_type": "execute_result"
    },
    {
     "data": {
      "image/png": "[encoded data removed]",
      "text/plain": [
       "<Figure size 432x288 with 1 Axes>"
      ]
     },
     "metadata": {
      "needs_background": "light"
     },
     "output_type": "display_data"
    }
   ],
   "source": [
    "x_values = yearly_sciFi[\"Average_Rating\"]\n",
    "y_values = yearly_sciFi[\"Year\"]\n",
    "plt.scatter(x_values, y_values, edgecolors=\"black\", facecolor =\"cyan\")\n",
    "plt.xlabel(\"Rating\")\n",
    "plt.ylabel(\"year\")\n",
    "plt.grid()\n",
    "plt.title(\"Movies rated over the years\")"
   ]
  },
  {
   "cell_type": "code",
   "execution_count": 12,
   "metadata": {},
   "outputs": [
    {
     "data": {
      "image/png": "[encoded data removed]",
      "text/plain": [
       "<Figure size 432x288 with 1 Axes>"
      ]
     },
     "metadata": {
      "needs_background": "light"
     },
     "output_type": "display_data"
    }
   ],
   "source": [
    "x_axis = yearly_horror[\"Year\"]\n",
    "horror_title_rel = yearly_horror[\"Total_Movies\"]\n",
    "plt.title(\"Horror Released by Year\")\n",
    "plt.plot(x_axis,horror_title_rel,linewidth=2, markersize=10)\n",
    "plt.ylabel(\"movies\")\n",
    "plt.xlabel(\"year\")\n",
    "\n",
    "plt.show()\n"
   ]
  },
  {
   "cell_type": "code",
   "execution_count": 13,
   "metadata": {},
   "outputs": [
    {
     "data": {
      "image/png": "[encoded data removed]",
      "text/plain": [
       "<Figure size 432x288 with 1 Axes>"
      ]
     },
     "metadata": {
      "needs_background": "light"
     },
     "output_type": "display_data"
    }
   ],
   "source": [
    "x_axis = yearly_romance[\"Year\"]\n",
    "romance_title_rel = yearly_horror[\"Total_Movies\"]\n",
    "plt.title(\"Romance Released by Year\")\n",
    "plt.plot(x_axis,romance_title_rel,linewidth=2, markersize=10)\n",
    "plt.ylabel(\"movies\")\n",
    "plt.xlabel(\"year\")\n",
    "\n",
    "plt.show()"
   ]
  },
  {
   "cell_type": "code",
   "execution_count": 14,
   "metadata": {},
   "outputs": [
    {
     "data": {
      "text/plain": [
       "<matplotlib.legend.Legend at 0x245eb308ac0>"
      ]
     },
     "execution_count": 14,
     "metadata": {},
     "output_type": "execute_result"
    },
    {
     "data": {
      "image/png": "[encoded data removed]",
      "text/plain": [
       "<Figure size 432x288 with 1 Axes>"
      ]
     },
     "metadata": {
      "needs_background": "light"
     },
     "output_type": "display_data"
    }
   ],
   "source": [
    "plt.plot('Year','Total_Movies', data=yearly_horror, marker ='d', markerfacecolor ='red', markersize=4, color ='black', linewidth=2, label='horror')\n",
    "plt.plot('Year','Total_Movies', data=yearly_romance, marker = 'o', markeredgecolor='white', markersize =4, color = 'red', linewidth=2, label='romance')\n",
    "plt.plot('Year','Total_Movies', data=yearly_sciFi, marker ='v', markerfacecolor ='black', markersize =4, color ='yellow', linewidth=2, label='sci fi')\n",
    "plt.legend()"
   ]
  },
  {
   "cell_type": "code",
   "execution_count": 15,
   "metadata": {},
   "outputs": [
    {
     "data": {
      "text/plain": [
       "Month Released      float64\n",
       "Box_Office_Total    float64\n",
       "Average_Rating      float64\n",
       "Total_Movies          int64\n",
       "dtype: object"
      ]
     },
     "execution_count": 15,
     "metadata": {},
     "output_type": "execute_result"
    }
   ],
   "source": [
    "monthly_sciFi.dtypes\n"
   ]
  },
  {
   "cell_type": "code",
   "execution_count": 16,
   "metadata": {},
   "outputs": [],
   "source": [
    "monthly_sciFi['Month Released'] = monthly_sciFi[\"Month Released\"].astype(str)\n",
    "monthly_horror['Month Released'] = monthly_horror[\"Month Released\"].astype(str)\n",
    "monthly_romance['Month Released'] = monthly_romance[\"Month Released\"].astype(str)"
   ]
  },
  {
   "cell_type": "code",
   "execution_count": 17,
   "metadata": {},
   "outputs": [
    {
     "data": {
      "text/plain": [
       "Month Released       object\n",
       "Box_Office_Total    float64\n",
       "Average_Rating      float64\n",
       "Total_Movies          int64\n",
       "dtype: object"
      ]
     },
     "execution_count": 17,
     "metadata": {},
     "output_type": "execute_result"
    }
   ],
   "source": [
    "monthly_romance.dtypes"
   ]
  },
  {
   "cell_type": "code",
   "execution_count": 18,
   "metadata": {},
   "outputs": [],
   "source": [
    "monthly_sciFi['Month Released'].replace({'1.0':'Jan', '2.0':'Feb','3.0':'Mar','4.0':'Apr','5.0':'May','6.0':'Jun','7.0':'Jul','8.0':'Aug','9.0':'Sep','10.0':'Oct','11.0':'Nov','12.0':'Dec'}, inplace=True)\n",
    "monthly_horror['Month Released'].replace({'1.0':'Jan', '2.0':'Feb','3.0':'Mar','4.0':'Apr','5.0':'May','6.0':'Jun','7.0':'Jul','8.0':'Aug','9.0':'Sep','10.0':'Oct','11.0':'Nov','12.0':'Dec'}, inplace=True)\n",
    "monthly_romance['Month Released'].replace({'1.0':'Jan', '2.0':'Feb','3.0':'Mar','4.0':'Apr','5.0':'May','6.0':'Jun','7.0':'Jul','8.0':'Aug','9.0':'Sep','10.0':'Oct','11.0':'Nov','12.0':'Dec'}, inplace=True)\n",
    "\n"
   ]
  },
  {
   "cell_type": "code",
   "execution_count": 19,
   "metadata": {},
   "outputs": [
    {
     "data": {
      "text/html": [
       "<div>\n",
       "<style scoped>\n",
       "    .dataframe tbody tr th:only-of-type {\n",
       "        vertical-align: middle;\n",
       "    }\n",
       "\n",
       "    .dataframe tbody tr th {\n",
       "        vertical-align: top;\n",
       "    }\n",
       "\n",
       "    .dataframe thead th {\n",
       "        text-align: right;\n",
       "    }\n",
       "</style>\n",
       "<table border=\"1\" class=\"dataframe\">\n",
       "  <thead>\n",
       "    <tr style=\"text-align: right;\">\n",
       "      <th></th>\n",
       "      <th>Box_Office_Total</th>\n",
       "      <th>Average_Rating</th>\n",
       "      <th>Total_Movies</th>\n",
       "    </tr>\n",
       "    <tr>\n",
       "      <th>Month Released</th>\n",
       "      <th></th>\n",
       "      <th></th>\n",
       "      <th></th>\n",
       "    </tr>\n",
       "  </thead>\n",
       "  <tbody>\n",
       "    <tr>\n",
       "      <th>Jan</th>\n",
       "      <td>1.158377e+09</td>\n",
       "      <td>6.268750</td>\n",
       "      <td>49</td>\n",
       "    </tr>\n",
       "    <tr>\n",
       "      <th>Feb</th>\n",
       "      <td>4.866544e+08</td>\n",
       "      <td>6.217647</td>\n",
       "      <td>17</td>\n",
       "    </tr>\n",
       "    <tr>\n",
       "      <th>Mar</th>\n",
       "      <td>2.123479e+09</td>\n",
       "      <td>5.900000</td>\n",
       "      <td>52</td>\n",
       "    </tr>\n",
       "    <tr>\n",
       "      <th>Apr</th>\n",
       "      <td>3.481190e+09</td>\n",
       "      <td>5.926000</td>\n",
       "      <td>50</td>\n",
       "    </tr>\n",
       "    <tr>\n",
       "      <th>May</th>\n",
       "      <td>1.659052e+09</td>\n",
       "      <td>5.835417</td>\n",
       "      <td>48</td>\n",
       "    </tr>\n",
       "    <tr>\n",
       "      <th>Jun</th>\n",
       "      <td>4.199193e+09</td>\n",
       "      <td>6.194667</td>\n",
       "      <td>76</td>\n",
       "    </tr>\n",
       "    <tr>\n",
       "      <th>Jul</th>\n",
       "      <td>2.079504e+09</td>\n",
       "      <td>5.937705</td>\n",
       "      <td>61</td>\n",
       "    </tr>\n",
       "    <tr>\n",
       "      <th>Aug</th>\n",
       "      <td>8.447543e+08</td>\n",
       "      <td>5.598305</td>\n",
       "      <td>59</td>\n",
       "    </tr>\n",
       "    <tr>\n",
       "      <th>Sep</th>\n",
       "      <td>5.425086e+08</td>\n",
       "      <td>6.317647</td>\n",
       "      <td>34</td>\n",
       "    </tr>\n",
       "    <tr>\n",
       "      <th>Oct</th>\n",
       "      <td>1.290344e+09</td>\n",
       "      <td>6.038095</td>\n",
       "      <td>43</td>\n",
       "    </tr>\n",
       "    <tr>\n",
       "      <th>Nov</th>\n",
       "      <td>9.076454e+08</td>\n",
       "      <td>6.153846</td>\n",
       "      <td>52</td>\n",
       "    </tr>\n",
       "    <tr>\n",
       "      <th>Dec</th>\n",
       "      <td>2.783192e+09</td>\n",
       "      <td>6.251163</td>\n",
       "      <td>46</td>\n",
       "    </tr>\n",
       "  </tbody>\n",
       "</table>\n",
       "</div>"
      ],
      "text/plain": [
       "                Box_Office_Total  Average_Rating  Total_Movies\n",
       "Month Released                                                \n",
       "Jan                 1.158377e+09        6.268750            49\n",
       "Feb                 4.866544e+08        6.217647            17\n",
       "Mar                 2.123479e+09        5.900000            52\n",
       "Apr                 3.481190e+09        5.926000            50\n",
       "May                 1.659052e+09        5.835417            48\n",
       "Jun                 4.199193e+09        6.194667            76\n",
       "Jul                 2.079504e+09        5.937705            61\n",
       "Aug                 8.447543e+08        5.598305            59\n",
       "Sep                 5.425086e+08        6.317647            34\n",
       "Oct                 1.290344e+09        6.038095            43\n",
       "Nov                 9.076454e+08        6.153846            52\n",
       "Dec                 2.783192e+09        6.251163            46"
      ]
     },
     "execution_count": 19,
     "metadata": {},
     "output_type": "execute_result"
    }
   ],
   "source": [
    "monthly_sciFi.set_index('Month Released')"
   ]
  },
  {
   "cell_type": "code",
   "execution_count": 20,
   "metadata": {},
   "outputs": [
    {
     "data": {
      "text/html": [
       "<div>\n",
       "<style scoped>\n",
       "    .dataframe tbody tr th:only-of-type {\n",
       "        vertical-align: middle;\n",
       "    }\n",
       "\n",
       "    .dataframe tbody tr th {\n",
       "        vertical-align: top;\n",
       "    }\n",
       "\n",
       "    .dataframe thead th {\n",
       "        text-align: right;\n",
       "    }\n",
       "</style>\n",
       "<table border=\"1\" class=\"dataframe\">\n",
       "  <thead>\n",
       "    <tr style=\"text-align: right;\">\n",
       "      <th></th>\n",
       "      <th>Box_Office_Total</th>\n",
       "      <th>Average_Rating</th>\n",
       "      <th>Total_Movies</th>\n",
       "    </tr>\n",
       "    <tr>\n",
       "      <th>Month Released</th>\n",
       "      <th></th>\n",
       "      <th></th>\n",
       "      <th></th>\n",
       "    </tr>\n",
       "  </thead>\n",
       "  <tbody>\n",
       "    <tr>\n",
       "      <th>Jan</th>\n",
       "      <td>445797958.0</td>\n",
       "      <td>5.910145</td>\n",
       "      <td>69</td>\n",
       "    </tr>\n",
       "    <tr>\n",
       "      <th>Feb</th>\n",
       "      <td>267228601.0</td>\n",
       "      <td>5.243333</td>\n",
       "      <td>30</td>\n",
       "    </tr>\n",
       "    <tr>\n",
       "      <th>Mar</th>\n",
       "      <td>389588250.0</td>\n",
       "      <td>5.501639</td>\n",
       "      <td>61</td>\n",
       "    </tr>\n",
       "    <tr>\n",
       "      <th>Apr</th>\n",
       "      <td>366470868.0</td>\n",
       "      <td>5.361905</td>\n",
       "      <td>63</td>\n",
       "    </tr>\n",
       "    <tr>\n",
       "      <th>May</th>\n",
       "      <td>87923407.0</td>\n",
       "      <td>5.611321</td>\n",
       "      <td>53</td>\n",
       "    </tr>\n",
       "    <tr>\n",
       "      <th>Jun</th>\n",
       "      <td>348657975.0</td>\n",
       "      <td>5.576923</td>\n",
       "      <td>39</td>\n",
       "    </tr>\n",
       "    <tr>\n",
       "      <th>Jul</th>\n",
       "      <td>243697367.0</td>\n",
       "      <td>5.443137</td>\n",
       "      <td>51</td>\n",
       "    </tr>\n",
       "    <tr>\n",
       "      <th>Aug</th>\n",
       "      <td>356217701.0</td>\n",
       "      <td>5.525000</td>\n",
       "      <td>60</td>\n",
       "    </tr>\n",
       "    <tr>\n",
       "      <th>Sep</th>\n",
       "      <td>114538729.0</td>\n",
       "      <td>5.650000</td>\n",
       "      <td>46</td>\n",
       "    </tr>\n",
       "    <tr>\n",
       "      <th>Oct</th>\n",
       "      <td>698294954.0</td>\n",
       "      <td>5.640260</td>\n",
       "      <td>77</td>\n",
       "    </tr>\n",
       "    <tr>\n",
       "      <th>Nov</th>\n",
       "      <td>113448550.0</td>\n",
       "      <td>5.864286</td>\n",
       "      <td>42</td>\n",
       "    </tr>\n",
       "    <tr>\n",
       "      <th>Dec</th>\n",
       "      <td>112503786.0</td>\n",
       "      <td>5.722581</td>\n",
       "      <td>31</td>\n",
       "    </tr>\n",
       "  </tbody>\n",
       "</table>\n",
       "</div>"
      ],
      "text/plain": [
       "                Box_Office_Total  Average_Rating  Total_Movies\n",
       "Month Released                                                \n",
       "Jan                  445797958.0        5.910145            69\n",
       "Feb                  267228601.0        5.243333            30\n",
       "Mar                  389588250.0        5.501639            61\n",
       "Apr                  366470868.0        5.361905            63\n",
       "May                   87923407.0        5.611321            53\n",
       "Jun                  348657975.0        5.576923            39\n",
       "Jul                  243697367.0        5.443137            51\n",
       "Aug                  356217701.0        5.525000            60\n",
       "Sep                  114538729.0        5.650000            46\n",
       "Oct                  698294954.0        5.640260            77\n",
       "Nov                  113448550.0        5.864286            42\n",
       "Dec                  112503786.0        5.722581            31"
      ]
     },
     "execution_count": 20,
     "metadata": {},
     "output_type": "execute_result"
    }
   ],
   "source": [
    "monthly_horror.set_index('Month Released')"
   ]
  },
  {
   "cell_type": "code",
   "execution_count": 21,
   "metadata": {},
   "outputs": [
    {
     "data": {
      "text/plain": [
       "<matplotlib.axes._subplots.AxesSubplot at 0x245eb33e9d0>"
      ]
     },
     "execution_count": 21,
     "metadata": {},
     "output_type": "execute_result"
    },
    {
     "data": {
      "image/png": "[encoded data removed]",
      "text/plain": [
       "<Figure size 432x288 with 1 Axes>"
      ]
     },
     "metadata": {
      "needs_background": "light"
     },
     "output_type": "display_data"
    }
   ],
   "source": [
    "monthly_sciFi.set_index('Month Released')\n",
    "monthly_scifi_rel= monthly_sciFi[\"Total_Movies\"]\n",
    "y_axis = monthly_scifi_rel.values\n",
    "x_axis = monthly_scifi_rel.index\n",
    "\n",
    "monthly_scifi_rel.plot(kind=\"bar\")\n"
   ]
  },
  {
   "cell_type": "code",
   "execution_count": 22,
   "metadata": {},
   "outputs": [
    {
     "data": {
      "text/plain": [
       "<matplotlib.axes._subplots.AxesSubplot at 0x245eb3d4a90>"
      ]
     },
     "execution_count": 22,
     "metadata": {},
     "output_type": "execute_result"
    },
    {
     "data": {
      "image/png": "[encoded data removed]",
      "text/plain": [
       "<Figure size 432x288 with 1 Axes>"
      ]
     },
     "metadata": {
      "needs_background": "light"
     },
     "output_type": "display_data"
    }
   ],
   "source": [
    "\n",
    "monthly_scifi_rel= monthly_sciFi[\"Total_Movies\"]\n",
    "y_axis = monthly_scifi_rel.values\n",
    "x_axis = monthly_scifi_rel.index\n",
    "\n",
    "monthly_scifi_rel.plot(kind=\"bar\")"
   ]
  },
  {
   "cell_type": "code",
   "execution_count": 23,
   "metadata": {},
   "outputs": [
    {
     "data": {
      "text/html": [
       "<div>\n",
       "<style scoped>\n",
       "    .dataframe tbody tr th:only-of-type {\n",
       "        vertical-align: middle;\n",
       "    }\n",
       "\n",
       "    .dataframe tbody tr th {\n",
       "        vertical-align: top;\n",
       "    }\n",
       "\n",
       "    .dataframe thead th {\n",
       "        text-align: right;\n",
       "    }\n",
       "</style>\n",
       "<table border=\"1\" class=\"dataframe\">\n",
       "  <thead>\n",
       "    <tr style=\"text-align: right;\">\n",
       "      <th></th>\n",
       "      <th>Box_Office_Total</th>\n",
       "      <th>Average_Rating</th>\n",
       "      <th>Total_Movies</th>\n",
       "    </tr>\n",
       "    <tr>\n",
       "      <th>Month Released</th>\n",
       "      <th></th>\n",
       "      <th></th>\n",
       "      <th></th>\n",
       "    </tr>\n",
       "  </thead>\n",
       "  <tbody>\n",
       "    <tr>\n",
       "      <th>Jan</th>\n",
       "      <td>445797958.0</td>\n",
       "      <td>5.910145</td>\n",
       "      <td>69</td>\n",
       "    </tr>\n",
       "    <tr>\n",
       "      <th>Feb</th>\n",
       "      <td>267228601.0</td>\n",
       "      <td>5.243333</td>\n",
       "      <td>30</td>\n",
       "    </tr>\n",
       "    <tr>\n",
       "      <th>Mar</th>\n",
       "      <td>389588250.0</td>\n",
       "      <td>5.501639</td>\n",
       "      <td>61</td>\n",
       "    </tr>\n",
       "    <tr>\n",
       "      <th>Apr</th>\n",
       "      <td>366470868.0</td>\n",
       "      <td>5.361905</td>\n",
       "      <td>63</td>\n",
       "    </tr>\n",
       "    <tr>\n",
       "      <th>May</th>\n",
       "      <td>87923407.0</td>\n",
       "      <td>5.611321</td>\n",
       "      <td>53</td>\n",
       "    </tr>\n",
       "    <tr>\n",
       "      <th>Jun</th>\n",
       "      <td>348657975.0</td>\n",
       "      <td>5.576923</td>\n",
       "      <td>39</td>\n",
       "    </tr>\n",
       "    <tr>\n",
       "      <th>Jul</th>\n",
       "      <td>243697367.0</td>\n",
       "      <td>5.443137</td>\n",
       "      <td>51</td>\n",
       "    </tr>\n",
       "    <tr>\n",
       "      <th>Aug</th>\n",
       "      <td>356217701.0</td>\n",
       "      <td>5.525000</td>\n",
       "      <td>60</td>\n",
       "    </tr>\n",
       "    <tr>\n",
       "      <th>Sep</th>\n",
       "      <td>114538729.0</td>\n",
       "      <td>5.650000</td>\n",
       "      <td>46</td>\n",
       "    </tr>\n",
       "    <tr>\n",
       "      <th>Oct</th>\n",
       "      <td>698294954.0</td>\n",
       "      <td>5.640260</td>\n",
       "      <td>77</td>\n",
       "    </tr>\n",
       "    <tr>\n",
       "      <th>Nov</th>\n",
       "      <td>113448550.0</td>\n",
       "      <td>5.864286</td>\n",
       "      <td>42</td>\n",
       "    </tr>\n",
       "    <tr>\n",
       "      <th>Dec</th>\n",
       "      <td>112503786.0</td>\n",
       "      <td>5.722581</td>\n",
       "      <td>31</td>\n",
       "    </tr>\n",
       "  </tbody>\n",
       "</table>\n",
       "</div>"
      ],
      "text/plain": [
       "                Box_Office_Total  Average_Rating  Total_Movies\n",
       "Month Released                                                \n",
       "Jan                  445797958.0        5.910145            69\n",
       "Feb                  267228601.0        5.243333            30\n",
       "Mar                  389588250.0        5.501639            61\n",
       "Apr                  366470868.0        5.361905            63\n",
       "May                   87923407.0        5.611321            53\n",
       "Jun                  348657975.0        5.576923            39\n",
       "Jul                  243697367.0        5.443137            51\n",
       "Aug                  356217701.0        5.525000            60\n",
       "Sep                  114538729.0        5.650000            46\n",
       "Oct                  698294954.0        5.640260            77\n",
       "Nov                  113448550.0        5.864286            42\n",
       "Dec                  112503786.0        5.722581            31"
      ]
     },
     "execution_count": 23,
     "metadata": {},
     "output_type": "execute_result"
    }
   ],
   "source": [
    "monthly_horror.set_index('Month Released')"
   ]
  },
  {
   "cell_type": "code",
   "execution_count": 24,
   "metadata": {},
   "outputs": [
    {
     "data": {
      "image/png": "[encoded data removed]",
      "text/plain": [
       "<Figure size 432x288 with 1 Axes>"
      ]
     },
     "metadata": {
      "needs_background": "light"
     },
     "output_type": "display_data"
    }
   ],
   "source": [
    "bar_line=monthly_romance.plot.bar(x ='Month Released',y ='Total_Movies', facecolor = 'Black', label='horror')\n",
    "\n",
    "\n"
   ]
  },
  {
   "cell_type": "code",
   "execution_count": 25,
   "metadata": {},
   "outputs": [
    {
     "data": {
      "image/png": "[encoded data removed]",
      "text/plain": [
       "<Figure size 432x288 with 1 Axes>"
      ]
     },
     "metadata": {
      "needs_background": "light"
     },
     "output_type": "display_data"
    },
    {
     "data": {
      "image/png": "[encoded data removed]",
      "text/plain": [
       "<Figure size 432x288 with 1 Axes>"
      ]
     },
     "metadata": {
      "needs_background": "light"
     },
     "output_type": "display_data"
    },
    {
     "data": {
      "image/png": "[encoded data removed]",
      "text/plain": [
       "<Figure size 432x288 with 1 Axes>"
      ]
     },
     "metadata": {
      "needs_background": "light"
     },
     "output_type": "display_data"
    }
   ],
   "source": [
    "bar_lineH=monthly_horror.plot.bar(x ='Month Released',y ='Total_Movies', facecolor = 'Black', label=\"horror\")\n",
    "bar_lineR=monthly_romance.plot.bar(x ='Month Released',y ='Total_Movies', facecolor = 'pink', label = \"romance\")\n",
    "bar_lineS=monthly_sciFi.plot.bar(x ='Month Released',y ='Total_Movies', facecolor = 'yellow', label = \"SciFi\")\n",
    "bar_three=(bar_lineH, bar_lineR, bar_lineS)\n"
   ]
  },
  {
   "cell_type": "code",
   "execution_count": 26,
   "metadata": {},
   "outputs": [
    {
     "data": {
      "image/png": "[encoded data removed]",
      "text/plain": [
       "<Figure size 432x288 with 1 Axes>"
      ]
     },
     "metadata": {
      "needs_background": "light"
     },
     "output_type": "display_data"
    }
   ],
   "source": [
    "bar_lineS=monthly_horror.plot.bar(x ='Month Released',y ='Average_Rating', facecolor = 'yellow', label = \"horror\")"
   ]
  },
  {
   "cell_type": "code",
   "execution_count": 27,
   "metadata": {},
   "outputs": [
    {
     "data": {
      "image/png": "[encoded data removed]",
      "text/plain": [
       "<Figure size 432x288 with 1 Axes>"
      ]
     },
     "metadata": {
      "needs_background": "light"
     },
     "output_type": "display_data"
    }
   ],
   "source": [
    "x_axis = yearly_romance[\"Year\"]\n",
    "romance_title_rel = yearly_horror[\"Average_Rating\"]\n",
    "plt.title(\"Romance Rating by Year\")\n",
    "plt.plot(x_axis,romance_title_rel,linewidth=2, markersize=10)\n",
    "plt.ylabel(\"rating\")\n",
    "plt.xlabel(\"year\")\n",
    "\n",
    "plt.show()"
   ]
  },
  {
   "cell_type": "code",
   "execution_count": 28,
   "metadata": {},
   "outputs": [
    {
     "data": {
      "image/png": "[encoded data removed]",
      "text/plain": [
       "<Figure size 432x288 with 1 Axes>"
      ]
     },
     "metadata": {
      "needs_background": "light"
     },
     "output_type": "display_data"
    }
   ],
   "source": [
    "bar_lineH=monthly_romance.plot.bar(x ='Month Released',y ='Box_Office_Total', facecolor = 'pink', label=\"Romance\")"
   ]
  },
  {
   "cell_type": "code",
   "execution_count": 29,
   "metadata": {},
   "outputs": [
    {
     "data": {
      "image/png": "[encoded data removed]",
      "text/plain": [
       "<Figure size 432x288 with 1 Axes>"
      ]
     },
     "metadata": {
      "needs_background": "light"
     },
     "output_type": "display_data"
    }
   ],
   "source": [
    "bar_lineH=monthly_horror.plot.bar(x ='Month Released',y ='Box_Office_Total', facecolor = 'Black', label=\"horror\")"
   ]
  },
  {
   "cell_type": "code",
   "execution_count": 30,
   "metadata": {},
   "outputs": [
    {
     "data": {
      "image/png": "[encoded data removed]",
      "text/plain": [
       "<Figure size 432x288 with 1 Axes>"
      ]
     },
     "metadata": {
      "needs_background": "light"
     },
     "output_type": "display_data"
    }
   ],
   "source": [
    "bar_lineH=monthly_sciFi.plot.bar(x ='Month Released',y ='Box_Office_Total', facecolor = 'yellow', label=\"SciFi\")"
   ]
  },
  {
   "cell_type": "code",
   "execution_count": 31,
   "metadata": {},
   "outputs": [
    {
     "data": {
      "image/png": "[encoded data removed]",
      "text/plain": [
       "<Figure size 432x288 with 1 Axes>"
      ]
     },
     "metadata": {
      "needs_background": "light"
     },
     "output_type": "display_data"
    }
   ],
   "source": [
    "bar_lineH=yearly_horror.plot.bar(x ='Year',y ='Box_Office_Total', facecolor = 'Black', label=\"horror\")"
   ]
  },
  {
   "cell_type": "code",
   "execution_count": 32,
   "metadata": {},
   "outputs": [
    {
     "data": {
      "image/png": "[encoded data removed]",
      "text/plain": [
       "<Figure size 432x288 with 1 Axes>"
      ]
     },
     "metadata": {
      "needs_background": "light"
     },
     "output_type": "display_data"
    }
   ],
   "source": [
    "bar_lineH=yearly_romance.plot.bar(x ='Year',y ='Box_Office_Total', facecolor = 'pink', label=\"romance\")"
   ]
  },
  {
   "cell_type": "code",
   "execution_count": null,
   "metadata": {},
   "outputs": [],
   "source": []
  }
 ],
 "metadata": {
  "kernelspec": {
   "display_name": "Python 3",
   "language": "python",
   "name": "python3"
  },
  "language_info": {
   "codemirror_mode": {
    "name": "ipython",
    "version": 3
   },
   "file_extension": ".py",
   "mimetype": "text/x-python",
   "name": "python",
   "nbconvert_exporter": "python",
   "pygments_lexer": "ipython3",
   "version": "3.8.3"
  }
 },
 "nbformat": 4,
 "nbformat_minor": 4
}
